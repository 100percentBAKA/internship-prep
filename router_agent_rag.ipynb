{
  "nbformat": 4,
  "nbformat_minor": 0,
  "metadata": {
    "colab": {
      "provenance": [],
      "gpuType": "T4"
    },
    "kernelspec": {
      "name": "python3",
      "display_name": "Python 3"
    },
    "language_info": {
      "name": "python"
    },
    "accelerator": "GPU"
  },
  "cells": [
    {
      "cell_type": "code",
      "execution_count": null,
      "metadata": {
        "colab": {
          "base_uri": "https://localhost:8080/"
        },
        "collapsed": true,
        "id": "jIrmh9SZlw8V",
        "outputId": "742afccb-7dc2-439f-d24c-a57dafcdae08"
      },
      "outputs": [
        {
          "output_type": "stream",
          "name": "stdout",
          "text": [
            "Requirement already satisfied: langchain in /usr/local/lib/python3.11/dist-packages (0.3.19)\n",
            "Collecting langchain-community\n",
            "  Downloading langchain_community-0.3.19-py3-none-any.whl.metadata (2.4 kB)\n",
            "Collecting langchain-groq\n",
            "  Downloading langchain_groq-0.2.5-py3-none-any.whl.metadata (2.6 kB)\n",
            "Collecting langchain-google-genai\n",
            "  Downloading langchain_google_genai-2.0.11-py3-none-any.whl.metadata (3.6 kB)\n",
            "Collecting pypdf\n",
            "  Downloading pypdf-5.3.1-py3-none-any.whl.metadata (7.3 kB)\n",
            "Collecting chromadb\n",
            "  Downloading chromadb-0.6.3-py3-none-any.whl.metadata (6.8 kB)\n",
            "Collecting langchain-chroma\n",
            "  Downloading langchain_chroma-0.2.2-py3-none-any.whl.metadata (1.3 kB)\n",
            "Collecting langgraph\n",
            "  Downloading langgraph-0.3.5-py3-none-any.whl.metadata (17 kB)\n",
            "Requirement already satisfied: langchain-core<1.0.0,>=0.3.35 in /usr/local/lib/python3.11/dist-packages (from langchain) (0.3.40)\n",
            "Requirement already satisfied: langchain-text-splitters<1.0.0,>=0.3.6 in /usr/local/lib/python3.11/dist-packages (from langchain) (0.3.6)\n",
            "Requirement already satisfied: langsmith<0.4,>=0.1.17 in /usr/local/lib/python3.11/dist-packages (from langchain) (0.3.11)\n",
            "Requirement already satisfied: pydantic<3.0.0,>=2.7.4 in /usr/local/lib/python3.11/dist-packages (from langchain) (2.10.6)\n",
            "Requirement already satisfied: SQLAlchemy<3,>=1.4 in /usr/local/lib/python3.11/dist-packages (from langchain) (2.0.38)\n",
            "Requirement already satisfied: requests<3,>=2 in /usr/local/lib/python3.11/dist-packages (from langchain) (2.32.3)\n",
            "Requirement already satisfied: PyYAML>=5.3 in /usr/local/lib/python3.11/dist-packages (from langchain) (6.0.2)\n",
            "Requirement already satisfied: aiohttp<4.0.0,>=3.8.3 in /usr/local/lib/python3.11/dist-packages (from langchain) (3.11.13)\n",
            "Requirement already satisfied: tenacity!=8.4.0,<10,>=8.1.0 in /usr/local/lib/python3.11/dist-packages (from langchain) (9.0.0)\n",
            "Requirement already satisfied: numpy<2,>=1.26.4 in /usr/local/lib/python3.11/dist-packages (from langchain) (1.26.4)\n",
            "Collecting langchain-core<1.0.0,>=0.3.35 (from langchain)\n",
            "  Downloading langchain_core-0.3.43-py3-none-any.whl.metadata (5.9 kB)\n",
            "Collecting langchain\n",
            "  Downloading langchain-0.3.20-py3-none-any.whl.metadata (7.7 kB)\n",
            "Collecting dataclasses-json<0.7,>=0.5.7 (from langchain-community)\n",
            "  Downloading dataclasses_json-0.6.7-py3-none-any.whl.metadata (25 kB)\n"
          ]
        }
      ],
      "source": [
        "%pip install langchain langchain-community langchain-groq langchain-google-genai pypdf chromadb langchain-chroma langgraph"
      ]
    },
    {
      "cell_type": "code",
      "source": [
        "from langgraph.graph import StateGraph, END\n",
        "from langgraph.graph.message import add_messages\n",
        "from langgraph.checkpoint.memory import MemorySaver\n",
        "from typing_extensions import TypedDict\n",
        "from typing import Annotated, Sequence, Literal\n",
        "from langchain_core.messages import BaseMessage, AIMessage, HumanMessage\n",
        "from langchain_google_genai import ChatGoogleGenerativeAI, GoogleGenerativeAIEmbeddings\n",
        "from langchain_community.document_loaders import PyPDFLoader\n",
        "from langchain_text_splitters import RecursiveCharacterTextSplitter\n",
        "from langchain_community.vectorstores import Chroma\n",
        "from langgraph.prebuilt import ToolNode, tools_condition\n",
        "from langchain import hub\n",
        "from langchain_core.output_parsers import StrOutputParser"
      ],
      "metadata": {
        "id": "ibDza_oin_1F"
      },
      "execution_count": 28,
      "outputs": []
    },
    {
      "cell_type": "code",
      "source": [
        "from langchain_core.tools.base import BaseTool\n",
        "from langchain_core.language_models.chat_models import BaseChatModel"
      ],
      "metadata": {
        "id": "QxPgh0myMyNS"
      },
      "execution_count": 11,
      "outputs": []
    },
    {
      "cell_type": "code",
      "source": [
        "from google.colab import userdata\n",
        "\n",
        "GOOGLE_API_KEY = userdata.get(\"GOOGLE_API_KEY\")\n",
        "\n",
        "PDF_PATH = \"/content/random_person_bio.pdf\"\n",
        "DB_PATH = \"/checkpoints/db\""
      ],
      "metadata": {
        "id": "n4_sDiR3FYad"
      },
      "execution_count": 3,
      "outputs": []
    },
    {
      "cell_type": "code",
      "source": [
        "memory = MemorySaver()\n",
        "config = {\"configurable\": {\"thread_id\": \"1\"}}\n",
        "llm = ChatGoogleGenerativeAI(model=\"gemini-1.5-pro\", google_api_key=GOOGLE_API_KEY)\n",
        "embeddings = GoogleGenerativeAIEmbeddings(model=\"models/text-embedding-004\", google_api_key=GOOGLE_API_KEY)"
      ],
      "metadata": {
        "id": "sdPoFgGuqI17"
      },
      "execution_count": 7,
      "outputs": []
    },
    {
      "cell_type": "code",
      "source": [
        "class AgentState(TypedDict):\n",
        "  messages: Annotated[list[BaseMessage], add_messages]"
      ],
      "metadata": {
        "id": "fNAP41iOrEgh"
      },
      "execution_count": 5,
      "outputs": []
    },
    {
      "cell_type": "code",
      "source": [
        "loader = PyPDFLoader(PDF_PATH)\n",
        "splitter = RecursiveCharacterTextSplitter(chunk_size = 256, chunk_overlap = 50)\n",
        "docs_split = loader.load_and_split(text_splitter=splitter)\n",
        "\n",
        "vectorstore = Chroma.from_documents(\n",
        "    documents=docs_split,\n",
        "    collection_name=\"rag-chroma\",\n",
        "    embedding=embeddings,\n",
        "    persist_directory=DB_PATH\n",
        ")\n",
        "\n",
        "retriever = vectorstore.as_retriever()"
      ],
      "metadata": {
        "id": "9RkMliMixTqA"
      },
      "execution_count": 8,
      "outputs": []
    },
    {
      "cell_type": "code",
      "source": [
        "from langchain.tools.retriever import create_retriever_tool\n",
        "\n",
        "retriever_tool = create_retriever_tool(\n",
        "    retriever=retriever,\n",
        "    name=\"retrieve_data_document\",\n",
        "    description=\"Search and return information asked from the provided document\",\n",
        ")\n",
        "\n",
        "tools = [retriever_tool]"
      ],
      "metadata": {
        "id": "pYfADOGVLlXK"
      },
      "execution_count": 9,
      "outputs": []
    },
    {
      "cell_type": "code",
      "source": [
        "%pip install ipython"
      ],
      "metadata": {
        "colab": {
          "base_uri": "https://localhost:8080/"
        },
        "collapsed": true,
        "id": "qAbicp-mPoGE",
        "outputId": "9ad133b2-2dc8-47be-c7f7-7d80f164e9dc"
      },
      "execution_count": 19,
      "outputs": [
        {
          "output_type": "stream",
          "name": "stdout",
          "text": [
            "Requirement already satisfied: ipython in /usr/local/lib/python3.11/dist-packages (7.34.0)\n",
            "Requirement already satisfied: setuptools>=18.5 in /usr/local/lib/python3.11/dist-packages (from ipython) (75.1.0)\n",
            "Collecting jedi>=0.16 (from ipython)\n",
            "  Downloading jedi-0.19.2-py2.py3-none-any.whl.metadata (22 kB)\n",
            "Requirement already satisfied: decorator in /usr/local/lib/python3.11/dist-packages (from ipython) (4.4.2)\n",
            "Requirement already satisfied: pickleshare in /usr/local/lib/python3.11/dist-packages (from ipython) (0.7.5)\n",
            "Requirement already satisfied: traitlets>=4.2 in /usr/local/lib/python3.11/dist-packages (from ipython) (5.7.1)\n",
            "Requirement already satisfied: prompt-toolkit!=3.0.0,!=3.0.1,<3.1.0,>=2.0.0 in /usr/local/lib/python3.11/dist-packages (from ipython) (3.0.50)\n",
            "Requirement already satisfied: pygments in /usr/local/lib/python3.11/dist-packages (from ipython) (2.18.0)\n",
            "Requirement already satisfied: backcall in /usr/local/lib/python3.11/dist-packages (from ipython) (0.2.0)\n",
            "Requirement already satisfied: matplotlib-inline in /usr/local/lib/python3.11/dist-packages (from ipython) (0.1.7)\n",
            "Requirement already satisfied: pexpect>4.3 in /usr/local/lib/python3.11/dist-packages (from ipython) (4.9.0)\n",
            "Requirement already satisfied: parso<0.9.0,>=0.8.4 in /usr/local/lib/python3.11/dist-packages (from jedi>=0.16->ipython) (0.8.4)\n",
            "Requirement already satisfied: ptyprocess>=0.5 in /usr/local/lib/python3.11/dist-packages (from pexpect>4.3->ipython) (0.7.0)\n",
            "Requirement already satisfied: wcwidth in /usr/local/lib/python3.11/dist-packages (from prompt-toolkit!=3.0.0,!=3.0.1,<3.1.0,>=2.0.0->ipython) (0.2.13)\n",
            "Downloading jedi-0.19.2-py2.py3-none-any.whl (1.6 MB)\n",
            "\u001b[2K   \u001b[90m━━━━━━━━━━━━━━━━━━━━━━━━━━━━━━━━━━━━━━━━\u001b[0m \u001b[32m1.6/1.6 MB\u001b[0m \u001b[31m64.8 MB/s\u001b[0m eta \u001b[36m0:00:00\u001b[0m\n",
            "\u001b[?25hInstalling collected packages: jedi\n",
            "Successfully installed jedi-0.19.2\n"
          ]
        }
      ]
    },
    {
      "cell_type": "code",
      "source": [
        "from IPython.display import Image, display\n",
        "\n",
        "class RagAgent:\n",
        "\n",
        "    def __init__(self, model: BaseChatModel, tools: list[BaseTool], system: str=\"\"):\n",
        "        self.system = system\n",
        "        retriever = ToolNode(tools)\n",
        "        self.model = model\n",
        "        self.model_with_tools = model.bind_tools(tools)\n",
        "\n",
        "        # Graph configurations\n",
        "        graph = StateGraph(AgentState)\n",
        "\n",
        "        # Graph nodes configuration\n",
        "        graph.add_node(\"agent\", self.agent)\n",
        "        graph.add_node(\"retriever\", retriever)\n",
        "        graph.add_node(\"generate\", self.generate)\n",
        "\n",
        "        # Add edges\n",
        "        graph.set_entry_point(\"agent\")\n",
        "        # graph.add_edge(\"agent\", \"retriever\")\n",
        "        graph.add_edge(\"retriever\", \"generate\")\n",
        "        graph.set_finish_point(\"generate\")\n",
        "\n",
        "        # Add conditional edges\n",
        "        graph.add_conditional_edges(\n",
        "            \"agent\",\n",
        "            tools_condition,\n",
        "            {\n",
        "                \"tools\": \"retriever\",\n",
        "                END: END,\n",
        "            },\n",
        "        )\n",
        "\n",
        "        self.graph = graph.compile(checkpointer=memory)\n",
        "        display(Image(self.graph.get_graph(xray=True).draw_mermaid_png()))\n",
        "\n",
        "\n",
        "    def agent(self, state: AgentState) -> AgentState:\n",
        "        \"\"\"\n",
        "        Invokes the agent model to generate a response based on the current state.\n",
        "        Given the question, it will decide to retrieve using the retriever tool, or simply end.\n",
        "\n",
        "        Args:\n",
        "            state (AgentState): The current state\n",
        "\n",
        "        Returns:\n",
        "            AgentState: The updated state with the agent response appended to messages\n",
        "        \"\"\"\n",
        "        messages = state[\"messages\"]\n",
        "        response = self.model_with_tools.invoke(messages)\n",
        "        return {\"messages\": [response]}\n",
        "\n",
        "\n",
        "    def generate(self, state: AgentState) -> AgentState:\n",
        "        \"\"\"\n",
        "        Generate answer based on the retrieved data.\n",
        "\n",
        "        Args:\n",
        "            state (AgentState): The current state\n",
        "\n",
        "        Returns:\n",
        "            AgentState: The updated state with re-phrased question\n",
        "        \"\"\"\n",
        "        messages = state[\"messages\"]\n",
        "        question = messages[0].content\n",
        "        last_message = messages[-1].content\n",
        "\n",
        "        prompt = hub.pull(\"rlm/rag-prompt\")\n",
        "\n",
        "        rag_chain = prompt | self.model | StrOutputParser()\n",
        "\n",
        "        response = rag_chain.invoke({\"context\": last_message, \"question\": question})\n",
        "        return {\"messages\": [response]}"
      ],
      "metadata": {
        "id": "2V0cX3BqptTg"
      },
      "execution_count": 25,
      "outputs": []
    },
    {
      "cell_type": "code",
      "source": [
        "prompt = (\n",
        "    \"You are a Retrieval-Augmented Generation (RAG) agent designed to assist users by combining your internal reasoning with real-time, relevant information. \"\n",
        "    \"When a question is presented, carefully analyze the query and determine if external data is necessary to form a complete answer. \"\n",
        "    \"If additional context is needed, invoke the retriever tool to fetch the most relevant and current information, then integrate it with your internal knowledge. \"\n",
        "    \"Your response should be accurate, well-organized, and delivered in a clear and professional tone. \"\n",
        "    \"Always verify the relevance of the retrieved data and provide a comprehensive answer that directly addresses the user's query.\"\n",
        ")\n",
        "\n",
        "bot = RagAgent(llm, tools, system=prompt)"
      ],
      "metadata": {
        "colab": {
          "base_uri": "https://localhost:8080/",
          "height": 491
        },
        "id": "3lL94ZxKYoLI",
        "outputId": "07b7a6fd-dd11-43a5-c4c1-c9e5a931fc52"
      },
      "execution_count": 26,
      "outputs": [
        {
          "output_type": "display_data",
          "data": {
            "image/png": "[encoded data removed]",
            "text/plain": [
              "<IPython.core.display.Image object>"
            ]
          },
          "metadata": {}
        },
        {
          "output_type": "execute_result",
          "data": {
            "text/plain": [
              "<__main__.RagAgent at 0x7c66a86978d0>"
            ]
          },
          "metadata": {},
          "execution_count": 26
        }
      ]
    },
    {
      "cell_type": "code",
      "source": [
        "result = bot.graph.invoke({\"messages\": [HumanMessage (content=\"Who is Johnathan Reynolds\")]}, config)\n",
        "result[\"messages\"]"
      ],
      "metadata": {
        "colab": {
          "base_uri": "https://localhost:8080/",
          "height": 165
        },
        "id": "lkbxmCvnaAMc",
        "outputId": "3affb0ca-fab5-405f-b3b9-ecfb174d7658"
      },
      "execution_count": 1,
      "outputs": [
        {
          "output_type": "error",
          "ename": "NameError",
          "evalue": "name 'bot' is not defined",
          "traceback": [
            "\u001b[0;31m---------------------------------------------------------------------------\u001b[0m",
            "\u001b[0;31mNameError\u001b[0m                                 Traceback (most recent call last)",
            "\u001b[0;32m<ipython-input-1-7fe26f96a938>\u001b[0m in \u001b[0;36m<cell line: 0>\u001b[0;34m()\u001b[0m\n\u001b[0;32m----> 1\u001b[0;31m \u001b[0mresult\u001b[0m \u001b[0;34m=\u001b[0m \u001b[0mbot\u001b[0m\u001b[0;34m.\u001b[0m\u001b[0mgraph\u001b[0m\u001b[0;34m.\u001b[0m\u001b[0minvoke\u001b[0m\u001b[0;34m(\u001b[0m\u001b[0;34m{\u001b[0m\u001b[0;34m\"messages\"\u001b[0m\u001b[0;34m:\u001b[0m \u001b[0;34m[\u001b[0m\u001b[0mHumanMessage\u001b[0m \u001b[0;34m(\u001b[0m\u001b[0mcontent\u001b[0m\u001b[0;34m=\u001b[0m\u001b[0;34m\"Who is Johnathan Reynolds\"\u001b[0m\u001b[0;34m)\u001b[0m\u001b[0;34m]\u001b[0m\u001b[0;34m}\u001b[0m\u001b[0;34m,\u001b[0m \u001b[0mconfig\u001b[0m\u001b[0;34m)\u001b[0m\u001b[0;34m\u001b[0m\u001b[0;34m\u001b[0m\u001b[0m\n\u001b[0m\u001b[1;32m      2\u001b[0m \u001b[0mresult\u001b[0m\u001b[0;34m[\u001b[0m\u001b[0;34m\"messages\"\u001b[0m\u001b[0;34m]\u001b[0m\u001b[0;34m\u001b[0m\u001b[0;34m\u001b[0m\u001b[0m\n",
            "\u001b[0;31mNameError\u001b[0m: name 'bot' is not defined"
          ]
        }
      ]
    },
    {
      "cell_type": "code",
      "source": [],
      "metadata": {
        "id": "5IlmEzjJZMZv"
      },
      "execution_count": null,
      "outputs": []
    }
  ]
}